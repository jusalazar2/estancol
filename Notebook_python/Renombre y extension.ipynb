{
 "cells": [
  {
   "cell_type": "code",
   "execution_count": null,
   "metadata": {},
   "outputs": [
    {
     "data": {
      "text/markdown": [
       "**Se encontraron 29 imágenes. Renombrando...**"
      ],
      "text/plain": [
       "<IPython.core.display.Markdown object>"
      ]
     },
     "metadata": {},
     "output_type": "display_data"
    },
    {
     "data": {
      "text/markdown": [
       "**Renombrado completado con éxito.**"
      ],
      "text/plain": [
       "<IPython.core.display.Markdown object>"
      ]
     },
     "metadata": {},
     "output_type": "display_data"
    }
   ],
   "source": [
    "import os\n",
    "import tkinter as tk\n",
    "from tkinter import filedialog\n",
    "from IPython.display import display, Markdown\n",
    "\n",
    "def seleccionar_carpeta():\n",
    "    root = tk.Tk()\n",
    "    root.withdraw()\n",
    "    carpeta = filedialog.askdirectory(title=\"Selecciona la carpeta con las imágenes\")\n",
    "    return carpeta\n",
    "\n",
    "def renombrar_imagenes(carpeta):\n",
    "    if not os.path.isdir(carpeta):\n",
    "        display(Markdown(\"**Error:** La carpeta seleccionada no existe.\"))\n",
    "        return\n",
    "    \n",
    "    imagenes = [f for f in os.listdir(carpeta) if f.lower().endswith((\".jpg\", \".jpeg\", \".png\", \".gif\", \".bmp\"))]\n",
    "    imagenes.sort()\n",
    "    \n",
    "    if not imagenes:\n",
    "        display(Markdown(\"**No se encontraron imágenes en la carpeta seleccionada.**\"))\n",
    "        return\n",
    "    \n",
    "    display(Markdown(f\"**Se encontraron {len(imagenes)} imágenes. Renombrando...**\"))\n",
    "    \n",
    "    for i, imagen in enumerate(imagenes, start=1):\n",
    "        extension = os.path.splitext(imagen)[1]\n",
    "        nuevo_nombre = f\"imagen{i}{extension}\"\n",
    "        ruta_actual = os.path.join(carpeta, imagen)\n",
    "        nueva_ruta = os.path.join(carpeta, nuevo_nombre)\n",
    "        os.rename(ruta_actual, nueva_ruta)\n",
    "    \n",
    "    display(Markdown(\"**Renombrado completado con éxito.**\"))\n",
    "\n",
    "# Ejecutar el proceso\n",
    "carpeta_seleccionada = seleccionar_carpeta()\n",
    "if carpeta_seleccionada:\n",
    "    renombrar_imagenes(carpeta_seleccionada)"
   ]
  },
  {
   "cell_type": "code",
   "execution_count": 7,
   "metadata": {},
   "outputs": [
    {
     "name": "stdout",
     "output_type": "stream",
     "text": [
      "Renombrado: imagen1.PNG → imagen1.png\n",
      "Renombrado: imagen10.JPG → imagen10.jpg\n",
      "Renombrado: imagen11.JPG → imagen11.jpg\n",
      "Renombrado: imagen12.JPG → imagen12.jpg\n",
      "Renombrado: imagen13.JPG → imagen13.jpg\n",
      "Renombrado: imagen14.JPG → imagen14.jpg\n",
      "Renombrado: imagen15.JPG → imagen15.jpg\n",
      "Renombrado: imagen16.JPG → imagen16.jpg\n",
      "Renombrado: imagen17.JPG → imagen17.jpg\n",
      "Renombrado: imagen18.JPG → imagen18.jpg\n",
      "Renombrado: imagen19.JPG → imagen19.jpg\n",
      "Renombrado: imagen2.JPG → imagen2.jpg\n",
      "Renombrado: imagen20.JPG → imagen20.jpg\n",
      "Renombrado: imagen21.JPG → imagen21.jpg\n",
      "Renombrado: imagen22.JPG → imagen22.jpg\n",
      "Renombrado: imagen23.JPG → imagen23.jpg\n",
      "Renombrado: imagen24.JPG → imagen24.jpg\n",
      "Renombrado: imagen25.JPG → imagen25.jpg\n",
      "Renombrado: imagen26.JPG → imagen26.jpg\n",
      "Renombrado: imagen27.JPG → imagen27.jpg\n",
      "Renombrado: imagen28.JPG → imagen28.jpg\n",
      "Renombrado: imagen29.JPG → imagen29.jpg\n",
      "Renombrado: imagen3.JPG → imagen3.jpg\n",
      "Renombrado: imagen4.JPG → imagen4.jpg\n",
      "Renombrado: imagen5.JPG → imagen5.jpg\n",
      "Renombrado: imagen6.JPG → imagen6.jpg\n",
      "Renombrado: imagen7.JPG → imagen7.jpg\n",
      "Renombrado: imagen8.JPG → imagen8.jpg\n",
      "Renombrado: imagen9.JPG → imagen9.jpg\n",
      "\n",
      "✅ 29 archivo(s) renombrado(s).\n"
     ]
    }
   ],
   "source": [
    "import os\n",
    "\n",
    "# 1. Cambiar esta ruta a tu carpeta de imágenes\n",
    "carpeta = r'C:\\Users\\pc\\Downloads\\Nueva carpeta (3)\\estanteria semipesada\\proyectos\\panamericana'\n",
    "\n",
    "# 2. Extensiones de imágenes conocidas\n",
    "extensiones_imagenes = {'.JPG', '.JPEG', '.PNG', '.WEBP', '.GIF', '.TIFF', '.BMP'}\n",
    "\n",
    "# 3. Renombrar extensiones a minúsculas\n",
    "renombrados = 0\n",
    "for archivo in os.listdir(carpeta):\n",
    "    ruta_completa = os.path.join(carpeta, archivo)\n",
    "    if os.path.isfile(ruta_completa):\n",
    "        nombre, extension = os.path.splitext(archivo)\n",
    "        if extension.upper() in extensiones_imagenes and extension != extension.lower():\n",
    "            nuevo_nombre = nombre + extension.lower()\n",
    "            nueva_ruta = os.path.join(carpeta, nuevo_nombre)\n",
    "            os.rename(ruta_completa, nueva_ruta)\n",
    "            print(f'Renombrado: {archivo} → {nuevo_nombre}')\n",
    "            renombrados += 1\n",
    "\n",
    "print(f'\\n✅ {renombrados} archivo(s) renombrado(s).')\n"
   ]
  }
 ],
 "metadata": {
  "kernelspec": {
   "display_name": "Python 3",
   "language": "python",
   "name": "python3"
  },
  "language_info": {
   "codemirror_mode": {
    "name": "ipython",
    "version": 3
   },
   "file_extension": ".py",
   "mimetype": "text/x-python",
   "name": "python",
   "nbconvert_exporter": "python",
   "pygments_lexer": "ipython3",
   "version": "3.12.4"
  }
 },
 "nbformat": 4,
 "nbformat_minor": 2
}
